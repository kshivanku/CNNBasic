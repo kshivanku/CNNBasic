{
 "cells": [
  {
   "cell_type": "code",
   "execution_count": 8,
   "metadata": {},
   "outputs": [],
   "source": [
    "import numpy as np\n",
    "import tensorflow as tf\n",
    "import matplotlib.pyplot as plt\n",
    "import scipy\n",
    "import h5py\n",
    "from PIL import Image\n",
    "from scipy import ndimage\n",
    "from tensorflow.python.framework import ops\n",
    "from cnn_utils import *\n",
    "\n",
    "%matplotlib inline"
   ]
  },
  {
   "cell_type": "code",
   "execution_count": 9,
   "metadata": {},
   "outputs": [],
   "source": [
    "X_train_orig, Y_train_orig, X_test_orig, Y_test_orig, classes = load_dataset()"
   ]
  },
  {
   "cell_type": "code",
   "execution_count": 12,
   "metadata": {},
   "outputs": [
    {
     "name": "stdout",
     "output_type": "stream",
     "text": [
      "y = 1\n"
     ]
    },
    {
     "data": {
      "image/png": "[encoded data removed]",
      "text/plain": [
       "<matplotlib.figure.Figure at 0x18246c4748>"
      ]
     },
     "metadata": {},
     "output_type": "display_data"
    }
   ],
   "source": [
    "index = 7\n",
    "plt.imshow(X_train_orig[index])\n",
    "print(\"y = \" + str(np.squeeze(Y_train_orig[:, index])))"
   ]
  },
  {
   "cell_type": "code",
   "execution_count": 18,
   "metadata": {},
   "outputs": [
    {
     "name": "stdout",
     "output_type": "stream",
     "text": [
      "Number of training examples: 1080\n",
      "Number of test examples: 120\n",
      "X_train shape: (1080, 64, 64, 3)\n",
      "X_test shape: (120, 64, 64, 3)\n",
      "Y_train shape: (1080, 6)\n",
      "Y_test shape: (120, 6)\n"
     ]
    }
   ],
   "source": [
    "X_train = X_train_orig/255\n",
    "X_test = X_test_orig/255\n",
    "Y_train = convert_to_one_hot(Y_train_orig, 6).T\n",
    "Y_test = convert_to_one_hot(Y_test_orig, 6).T\n",
    "print(\"Number of training examples: \" + str(X_train.shape[0]))\n",
    "print(\"Number of test examples: \" + str(X_test.shape[0]))\n",
    "print(\"X_train shape: \" + str(X_train.shape))\n",
    "print(\"X_test shape: \" + str(X_test.shape))\n",
    "print(\"Y_train shape: \" + str(Y_train.shape))\n",
    "print(\"Y_test shape: \" + str(Y_test.shape))"
   ]
  },
  {
   "cell_type": "code",
   "execution_count": 31,
   "metadata": {
    "collapsed": true
   },
   "outputs": [],
   "source": [
    "def model(X_train, Y_train, X_test, Y_test, num_epochs=100, learning_rate=0.009, minibatch_size=64, print_cost=True):\n",
    "    ops.reset_default_graph()\n",
    "    (m, n_H0, n_W0, n_C0) = X_train.shape\n",
    "    n_y = Y_train.shape[1]\n",
    "    costs = []\n",
    "    \n",
    "    #Create placeholders for input data\n",
    "    X,Y = create_placeholders(n_H0, n_W0, n_C0, n_y)\n",
    "    \n",
    "    #Initialize parameters\n",
    "    parameters = initialize_parameters()\n",
    "    \n",
    "    #Forward propagation\n",
    "    \"\"\"\n",
    "    We just need to build a way for tf to get Z for the third layer, rest everything is taken care of by tf\n",
    "    \"\"\"\n",
    "    Z3 = forward_propagation(X, parameters)\n",
    "    \n",
    "    #Compute Cost\n",
    "    cost = compute_cost(Z3, Y)\n",
    "    \n",
    "    #Backpropagation\n",
    "    optimizer = tf.train.AdamOptimizer(learning_rate=learning_rate).minimize(cost)\n",
    "    \n",
    "    #Initialize all variables globally\n",
    "    init = tf.global_variables_initializer()\n",
    "    \n",
    "    #Start the session to compute tensor graph\n",
    "    with tf.Session() as sess:\n",
    "        sess.run(init)\n",
    "        for epoch in range(num_epochs):\n",
    "            minibatch_cost = 0\n",
    "            num_minibatches = int(m/minibatch_size)\n",
    "            minibatches = random_mini_batches(X_train, Y_train, minibatch_size)\n",
    "            \n",
    "            for minibatch in minibatches:\n",
    "                (minibatch_X, minibatch_Y) = minibatch\n",
    "                _ , temp_cost = sess.run([optimizer, cost], feed_dict={X:minibatch_X, Y:minibatch_Y})\n",
    "                minibatch_cost += temp_cost / num_minibatches\n",
    "                \n",
    "            \n",
    "            #Print the cost every epoch\n",
    "            if print_cost == True and epoch%5==0:\n",
    "                print(\"Cost after epoch %i: %f\" %(epoch, minibatch_cost))\n",
    "            if print_cost == True and epoch%1==0:\n",
    "                costs.append(minibatch_cost)\n",
    "            \n",
    "        #plot the cost\n",
    "        plt.plot(np.squeeze(costs))\n",
    "        plt.ylabel('cost')\n",
    "        plt.xlabel('iterations (per tens)')\n",
    "        plt.title(\"Learning rate =\" + str(learning_rate))\n",
    "        plt.show()\n",
    "        \n",
    "        # Calculate the correct predictions\n",
    "        predict_op = tf.argmax(Z3, 1)\n",
    "        correct_prediction = tf.equal(predict_op, tf.argmax(Y, 1))\n",
    "        \n",
    "        # Calculate accuracy on the test set\n",
    "        accuracy = tf.reduce_mean(tf.cast(correct_prediction, \"float\"))\n",
    "        print(accuracy)\n",
    "        train_accuracy = accuracy.eval({X: X_train, Y: Y_train})\n",
    "        test_accuracy = accuracy.eval({X: X_test, Y: Y_test})\n",
    "        print(\"Train Accuracy:\", train_accuracy)\n",
    "        print(\"Test Accuracy:\", test_accuracy)\n",
    "                \n",
    "        return train_accuracy, test_accuracy, parameters"
   ]
  },
  {
   "cell_type": "code",
   "execution_count": 32,
   "metadata": {},
   "outputs": [
    {
     "name": "stdout",
     "output_type": "stream",
     "text": [
      "Cost after epoch 0: 1.922682\n",
      "Cost after epoch 5: 1.580967\n",
      "Cost after epoch 10: 1.314288\n",
      "Cost after epoch 15: 1.182376\n",
      "Cost after epoch 20: 1.089592\n",
      "Cost after epoch 25: 1.026097\n",
      "Cost after epoch 30: 1.002660\n",
      "Cost after epoch 35: 0.958570\n",
      "Cost after epoch 40: 0.947263\n",
      "Cost after epoch 45: 0.927360\n",
      "Cost after epoch 50: 0.908705\n",
      "Cost after epoch 55: 0.898497\n",
      "Cost after epoch 60: 0.894465\n",
      "Cost after epoch 65: 0.871978\n",
      "Cost after epoch 70: 0.857373\n",
      "Cost after epoch 75: 0.873191\n",
      "Cost after epoch 80: 0.857813\n",
      "Cost after epoch 85: 0.859705\n",
      "Cost after epoch 90: 0.833502\n",
      "Cost after epoch 95: 0.842581\n"
     ]
    },
    {
     "data": {
      "image/png": "[encoded data removed]",
      "text/plain": [
       "<matplotlib.figure.Figure at 0x1a379a2048>"
      ]
     },
     "metadata": {},
     "output_type": "display_data"
    },
    {
     "name": "stdout",
     "output_type": "stream",
     "text": [
      "Tensor(\"Mean_1:0\", shape=(), dtype=float32)\n",
      "Train Accuracy: 0.703704\n",
      "Test Accuracy: 0.625\n"
     ]
    }
   ],
   "source": [
    "_,_,parameters = model(X_train, Y_train, X_test, Y_test)"
   ]
  },
  {
   "cell_type": "markdown",
   "metadata": {},
   "source": [
    "# Supporting Functions"
   ]
  },
  {
   "cell_type": "code",
   "execution_count": 19,
   "metadata": {},
   "outputs": [
    {
     "name": "stdout",
     "output_type": "stream",
     "text": [
      "X= Tensor(\"Placeholder:0\", shape=(?, 64, 64, 3), dtype=float32)\n",
      "Y= Tensor(\"Placeholder_1:0\", shape=(?, 6), dtype=float32)\n"
     ]
    }
   ],
   "source": [
    "def create_placeholders(n_H0, n_W0, n_C0, n_y):\n",
    "    X = tf.placeholder(tf.float32, [None, n_H0, n_W0, n_C0])\n",
    "    Y = tf.placeholder(tf.float32, [None, n_y])\n",
    "    return X, Y\n",
    "\n",
    "X,Y = create_placeholders(64,64,3,6)\n",
    "print(\"X= \" + str(X))\n",
    "print(\"Y= \" + str(Y))"
   ]
  },
  {
   "cell_type": "code",
   "execution_count": 23,
   "metadata": {},
   "outputs": [
    {
     "name": "stdout",
     "output_type": "stream",
     "text": [
      "W1 = [-0.0752826   0.08046506 -0.18115364  0.01793462 -0.11417466 -0.15131985\n",
      " -0.1336818  -0.06460937]\n",
      "W2 = [ 0.18771225  0.02089775  0.00491112 -0.12298661 -0.04200333  0.13979024\n",
      "  0.05375856 -0.10530782 -0.15856427  0.19796973  0.04295498 -0.0471608\n",
      "  0.01342118  0.21189791  0.1855194  -0.13519925]\n"
     ]
    }
   ],
   "source": [
    "def initialize_parameters():\n",
    "    \"\"\"\n",
    "    We just have to initialize the weights for the conv layers. The weights for fully connected layers are initilized\n",
    "    by tf automatically.\n",
    "    \n",
    "    So here we want the filters for the first layer to be a 4x4 with 8 filters and second layer is 2x2 with 16\n",
    "    layers\n",
    "    \n",
    "    Hence W1 is of shape [4, 4, 3, 8] and W2 is [2, 2, 8, 16]\n",
    "    \n",
    "    Also we don't have to worry about the bias when working with tensor flow. Those are initialized automatically\n",
    "    \"\"\"\n",
    "    \n",
    "    W1 = tf.get_variable(\"W1\", [4, 4, 3, 8], initializer=tf.contrib.layers.xavier_initializer(seed=0))\n",
    "    W2 = tf.get_variable(\"W2\", [2, 2, 8, 16], initializer=tf.contrib.layers.xavier_initializer(seed=0))\n",
    "    \n",
    "    parameters = {\n",
    "        \"W1\": W1,\n",
    "        \"W2\": W2\n",
    "    }\n",
    "    \n",
    "    return parameters\n",
    "\n",
    "tf.reset_default_graph()\n",
    "with tf.Session() as sess_test:\n",
    "    parameters = initialize_parameters()\n",
    "    init = tf.global_variables_initializer()\n",
    "    sess_test.run(init)\n",
    "    print(\"W1 = \" + str(parameters[\"W1\"].eval()[1, 1, 1]))\n",
    "    print(\"W2 = \" + str(parameters[\"W2\"].eval()[1, 1, 1]))"
   ]
  },
  {
   "cell_type": "code",
   "execution_count": 25,
   "metadata": {},
   "outputs": [],
   "source": [
    "def forward_propagation(X, parameters):\n",
    "    W1 = parameters[\"W1\"]\n",
    "    W2 = parameters[\"W2\"]\n",
    "    \n",
    "    \"\"\"\n",
    "    We have to do this\n",
    "    CONV2D -> RELU -> MAXPOOL -> CONV2D -> RELU -> MAXPOOL -> FLATTEN -> FULLYCONNECTED\n",
    "    \n",
    "    In FULLYCONNECTED part, we just have to take the flatten vector to Z and not apply the activation function \n",
    "    just yet. We need Z to compute cost where we will define the activation frunction for the final layer \n",
    "    \n",
    "\n",
    "    In TensorFlow, there are built-in functions that carry out the convolution steps for you.\n",
    "\n",
    "    tf.nn.conv2d(X,W1, strides = [1,s,s,1], padding = 'SAME'): given an input X and a group of filters  W1,\n",
    "    this function convolves  W1's filters on X. The third input ([1,f,f,1]) represents the strides for each \n",
    "    dimension of the input (m, n_H_prev, n_W_prev, n_C_prev).\n",
    "\n",
    "    tf.nn.max_pool(A, ksize = [1,f,f,1], strides = [1,s,s,1], padding = 'SAME'): given an input A, this function \n",
    "    uses a window of size (f, f) and strides of size (s, s) to carry out max pooling over each window. \n",
    "\n",
    "    tf.nn.relu(Z1): computes the elementwise ReLU of Z1 (which can be any shape).\n",
    "\n",
    "    tf.contrib.layers.flatten(P): given an input P, this function flattens each example into a 1D vector it while \n",
    "    maintaining the batch-size. It returns a flattened tensor with shape [batch_size, k].\n",
    "\n",
    "    tf.contrib.layers.fully_connected(F, num_outputs): given a the flattened input F, it returns the output \n",
    "    computed using a fully connected layer.\n",
    "    \n",
    "    \"\"\"\n",
    "    \n",
    "    Z1 = tf.nn.conv2d(X, W1, strides=[1,1,1,1], padding='SAME')\n",
    "    A1 = tf.nn.relu(Z1)\n",
    "    P1 = tf.nn.max_pool(A1, ksize=[1,8,8,1], strides=[1,8,8,1], padding='SAME')\n",
    "    #how do you decide ksize is not really known. A1 is 64x64 since padding is SAME.\n",
    "    Z2 = tf.nn.conv2d(P1, W2, strides=[1,1,1,1], padding='SAME')\n",
    "    A2 = tf.nn.relu(Z2)\n",
    "    P2 = tf.nn.max_pool(A2, ksize=[1,4,4,1], strides=[1,4,4,1], padding='SAME')\n",
    "    \n",
    "    #Flatten before fully connected\n",
    "    P2 = tf.contrib.layers.flatten(P2)\n",
    "    \n",
    "    #Fully connected upto activation step\n",
    "    Z3 = tf.contrib.layers.fully_connected(P2, num_outputs=6, activation_fn=None)\n",
    "    \n",
    "    return Z3"
   ]
  },
  {
   "cell_type": "code",
   "execution_count": 26,
   "metadata": {
    "collapsed": true
   },
   "outputs": [],
   "source": [
    "def compute_cost(Z3, Y):\n",
    "    cost = tf.reduce_mean(tf.nn.softmax_cross_entropy_with_logits(logits=Z3, labels=Y))\n",
    "    return cost"
   ]
  },
  {
   "cell_type": "code",
   "execution_count": null,
   "metadata": {
    "collapsed": true
   },
   "outputs": [],
   "source": []
  }
 ],
 "metadata": {
  "kernelspec": {
   "display_name": "Python 3",
   "language": "python",
   "name": "python3"
  },
  "language_info": {
   "codemirror_mode": {
    "name": "ipython",
    "version": 3
   },
   "file_extension": ".py",
   "mimetype": "text/x-python",
   "name": "python",
   "nbconvert_exporter": "python",
   "pygments_lexer": "ipython3",
   "version": "3.6.3"
  }
 },
 "nbformat": 4,
 "nbformat_minor": 2
}
